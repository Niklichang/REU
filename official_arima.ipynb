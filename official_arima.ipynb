{
 "cells": [
  {
   "attachments": {},
   "cell_type": "markdown",
   "metadata": {},
   "source": [
    "# The Official file for doing ARIMA\n",
    "\n",
    "This file is intended to be created to do mass ARIMA for building these models for all the mice. The code should be made into clean, encapsulated functions which are easy to use and are repeateable to analysis can be done quickly and efficiently."
   ]
  },
  {
   "cell_type": "code",
   "execution_count": 6,
   "metadata": {},
   "outputs": [
    {
     "name": "stdout",
     "output_type": "stream",
     "text": [
      "16\n",
      "13\n"
     ]
    },
    {
     "data": {
      "text/html": [
       "<div>\n",
       "<style scoped>\n",
       "    .dataframe tbody tr th:only-of-type {\n",
       "        vertical-align: middle;\n",
       "    }\n",
       "\n",
       "    .dataframe tbody tr th {\n",
       "        vertical-align: top;\n",
       "    }\n",
       "\n",
       "    .dataframe thead th {\n",
       "        text-align: right;\n",
       "    }\n",
       "</style>\n",
       "<table border=\"1\" class=\"dataframe\">\n",
       "  <thead>\n",
       "    <tr style=\"text-align: right;\">\n",
       "      <th></th>\n",
       "      <th>Stilltime_M</th>\n",
       "    </tr>\n",
       "    <tr>\n",
       "      <th>DateTime</th>\n",
       "      <th></th>\n",
       "    </tr>\n",
       "  </thead>\n",
       "  <tbody>\n",
       "    <tr>\n",
       "      <th>2022-11-04 14:01:00</th>\n",
       "      <td>15.44444</td>\n",
       "    </tr>\n",
       "    <tr>\n",
       "      <th>2022-11-04 14:31:00</th>\n",
       "      <td>0.00000</td>\n",
       "    </tr>\n",
       "    <tr>\n",
       "      <th>2022-11-04 15:01:00</th>\n",
       "      <td>26.77778</td>\n",
       "    </tr>\n",
       "    <tr>\n",
       "      <th>2022-11-04 15:31:00</th>\n",
       "      <td>19.27778</td>\n",
       "    </tr>\n",
       "    <tr>\n",
       "      <th>2022-11-04 16:01:00</th>\n",
       "      <td>8.00000</td>\n",
       "    </tr>\n",
       "    <tr>\n",
       "      <th>...</th>\n",
       "      <td>...</td>\n",
       "    </tr>\n",
       "    <tr>\n",
       "      <th>2022-11-28 06:01:00</th>\n",
       "      <td>38.00000</td>\n",
       "    </tr>\n",
       "    <tr>\n",
       "      <th>2022-11-28 06:31:00</th>\n",
       "      <td>86.61111</td>\n",
       "    </tr>\n",
       "    <tr>\n",
       "      <th>2022-11-28 07:01:00</th>\n",
       "      <td>82.27778</td>\n",
       "    </tr>\n",
       "    <tr>\n",
       "      <th>2022-11-28 07:31:00</th>\n",
       "      <td>85.72222</td>\n",
       "    </tr>\n",
       "    <tr>\n",
       "      <th>2022-11-28 08:01:00</th>\n",
       "      <td>86.00000</td>\n",
       "    </tr>\n",
       "  </tbody>\n",
       "</table>\n",
       "<p>1141 rows × 1 columns</p>\n",
       "</div>"
      ],
      "text/plain": [
       "                     Stilltime_M\n",
       "DateTime                        \n",
       "2022-11-04 14:01:00     15.44444\n",
       "2022-11-04 14:31:00      0.00000\n",
       "2022-11-04 15:01:00     26.77778\n",
       "2022-11-04 15:31:00     19.27778\n",
       "2022-11-04 16:01:00      8.00000\n",
       "...                          ...\n",
       "2022-11-28 06:01:00     38.00000\n",
       "2022-11-28 06:31:00     86.61111\n",
       "2022-11-28 07:01:00     82.27778\n",
       "2022-11-28 07:31:00     85.72222\n",
       "2022-11-28 08:01:00     86.00000\n",
       "\n",
       "[1141 rows x 1 columns]"
      ]
     },
     "execution_count": 6,
     "metadata": {},
     "output_type": "execute_result"
    }
   ],
   "source": [
    "# upload data\n",
    "import pandas as pd\n",
    "from scipy import stats\n",
    "import numpy as np\n",
    "import matplotlib.pyplot as plt\n",
    "\n",
    "def to_datetime(df):\n",
    "    df['DateTime'] = pd.to_datetime(df['DateTime'])\n",
    "    df.set_index('DateTime',inplace=True)\n",
    "    return df\n",
    "\n",
    "mouse_df_list = list()\n",
    "\n",
    "# pull 16 mice PCA data\n",
    "for i in range(1,17):\n",
    "    df = pd.read_excel(\"data/originalVars/{}.xlsx\".format(i))\n",
    "    mouse_df_list.append(df)\n",
    "\n",
    "\n",
    "# create array that will hold all graphs\n",
    "graphs = []\n",
    "for mouse in mouse_df_list:\n",
    "    # create mouse array and iterate through 13 variables\n",
    "    mouseN = []\n",
    "    for i in range(13):\n",
    "        dfAti = pd.DataFrame(mouse.iloc[:, i])\n",
    "        dfAti.insert(0, 'DateTime', mouse['DateTime'])\n",
    "        dfAti = to_datetime(dfAti)\n",
    "        mouseN.append(dfAti)\n",
    "    graphs.append(mouseN)\n",
    "\n",
    "print(len(graphs))\n",
    "print(len(mouseN))\n",
    "dfAti\n"
   ]
  },
  {
   "cell_type": "code",
   "execution_count": 7,
   "metadata": {},
   "outputs": [],
   "source": [
    "# create functions\n",
    "\n",
    "# pick a mouse from 1 to 16\n",
    "MOUSE_NUMBER = 1\n",
    "\n",
    "# pick a index variable: 1 VO2_M, 2 VCO2_M, 3 VH2O_M, 4 kcal_hr_M, 5 RER_M, 6 FoodInA_M, 7 WaterInA_M, 8 BodyMass_M, 9 PedSpeed_Mnz, 10 PedMeters_M, 11 PedMeters_R, 12 AllMeters_M, 13 Stilltime_M\n",
    "VARIABLE = 7\n",
    "\n",
    "# measured in amount of days wanted for the test dataset vs the training dataset\n",
    "# 23.x days, will create TEST_SIZE + 0.x days for test dataset and 23.x - TEST_SIZE.x for training dataset\n",
    "TEST_SIZE = 2\n"
   ]
  },
  {
   "cell_type": "code",
   "execution_count": 8,
   "metadata": {},
   "outputs": [
    {
     "data": {
      "text/html": [
       "<div>\n",
       "<style scoped>\n",
       "    .dataframe tbody tr th:only-of-type {\n",
       "        vertical-align: middle;\n",
       "    }\n",
       "\n",
       "    .dataframe tbody tr th {\n",
       "        vertical-align: top;\n",
       "    }\n",
       "\n",
       "    .dataframe thead th {\n",
       "        text-align: right;\n",
       "    }\n",
       "</style>\n",
       "<table border=\"1\" class=\"dataframe\">\n",
       "  <thead>\n",
       "    <tr style=\"text-align: right;\">\n",
       "      <th></th>\n",
       "      <th>WaterInA_M</th>\n",
       "    </tr>\n",
       "    <tr>\n",
       "      <th>DateTime</th>\n",
       "      <th></th>\n",
       "    </tr>\n",
       "  </thead>\n",
       "  <tbody>\n",
       "    <tr>\n",
       "      <th>2022-11-04 14:01:00</th>\n",
       "      <td>0.000000</td>\n",
       "    </tr>\n",
       "    <tr>\n",
       "      <th>2022-11-04 14:31:00</th>\n",
       "      <td>0.001894</td>\n",
       "    </tr>\n",
       "    <tr>\n",
       "      <th>2022-11-04 15:01:00</th>\n",
       "      <td>0.011358</td>\n",
       "    </tr>\n",
       "    <tr>\n",
       "      <th>2022-11-04 15:31:00</th>\n",
       "      <td>0.073106</td>\n",
       "    </tr>\n",
       "    <tr>\n",
       "      <th>2022-11-04 16:01:00</th>\n",
       "      <td>0.214622</td>\n",
       "    </tr>\n",
       "    <tr>\n",
       "      <th>...</th>\n",
       "      <td>...</td>\n",
       "    </tr>\n",
       "    <tr>\n",
       "      <th>2022-11-28 06:01:00</th>\n",
       "      <td>66.111400</td>\n",
       "    </tr>\n",
       "    <tr>\n",
       "      <th>2022-11-28 06:31:00</th>\n",
       "      <td>66.111400</td>\n",
       "    </tr>\n",
       "    <tr>\n",
       "      <th>2022-11-28 07:01:00</th>\n",
       "      <td>66.111400</td>\n",
       "    </tr>\n",
       "    <tr>\n",
       "      <th>2022-11-28 07:31:00</th>\n",
       "      <td>66.111400</td>\n",
       "    </tr>\n",
       "    <tr>\n",
       "      <th>2022-11-28 08:01:00</th>\n",
       "      <td>66.111400</td>\n",
       "    </tr>\n",
       "  </tbody>\n",
       "</table>\n",
       "<p>1141 rows × 1 columns</p>\n",
       "</div>"
      ],
      "text/plain": [
       "                     WaterInA_M\n",
       "DateTime                       \n",
       "2022-11-04 14:01:00    0.000000\n",
       "2022-11-04 14:31:00    0.001894\n",
       "2022-11-04 15:01:00    0.011358\n",
       "2022-11-04 15:31:00    0.073106\n",
       "2022-11-04 16:01:00    0.214622\n",
       "...                         ...\n",
       "2022-11-28 06:01:00   66.111400\n",
       "2022-11-28 06:31:00   66.111400\n",
       "2022-11-28 07:01:00   66.111400\n",
       "2022-11-28 07:31:00   66.111400\n",
       "2022-11-28 08:01:00   66.111400\n",
       "\n",
       "[1141 rows x 1 columns]"
      ]
     },
     "execution_count": 8,
     "metadata": {},
     "output_type": "execute_result"
    }
   ],
   "source": [
    "mouse_index = MOUSE_NUMBER - 1\n",
    "var_index = VARIABLE - 1\n",
    "df = graphs[mouse_index][var_index]\n",
    "\n",
    "# change values to numerical values\n",
    "df.iloc[:, 0] = pd.to_numeric(df.iloc[:, 0])\n",
    "df"
   ]
  },
  {
   "cell_type": "code",
   "execution_count": 15,
   "metadata": {},
   "outputs": [
    {
     "data": {
      "text/plain": [
       "<Axes: xlabel='DateTime'>"
      ]
     },
     "execution_count": 15,
     "metadata": {},
     "output_type": "execute_result"
    },
    {
     "data": {
      "image/png": "[encoded data removed]",
      "text/plain": [
       "<Figure size 640x480 with 1 Axes>"
      ]
     },
     "metadata": {},
     "output_type": "display_data"
    }
   ],
   "source": [
    "df.plot()"
   ]
  },
  {
   "cell_type": "code",
   "execution_count": 14,
   "metadata": {},
   "outputs": [
    {
     "name": "stdout",
     "output_type": "stream",
     "text": [
      "(-3.12597878176186, 0.024689428841573314, 8, 1132, {'1%': -3.436139921033549, '5%': -2.86409660029079, '10%': -2.568131202693254}, -2577.53920325005)\n"
     ]
    },
    {
     "data": {
      "text/plain": [
       "0"
      ]
     },
     "execution_count": 14,
     "metadata": {},
     "output_type": "execute_result"
    }
   ],
   "source": [
    "# run differencing, will output the desired d value at the end\n",
    "# stationarity inspection using augmented Dickey-Fuller(ADF) test\n",
    "\n",
    "# difference() function? https://machinelearningmastery.com/remove-trends-seasonality-difference-transform-python/\n",
    "from statsmodels.tsa.stattools import adfuller\n",
    "\n",
    "def is_stationary(data):\n",
    "    result = adfuller(data)\n",
    "    if result[1] > 0.05:\n",
    "        return False\n",
    "    return True\n",
    "\n",
    "difference = 0\n",
    "\n",
    "while not is_stationary(df):\n",
    "    df = df.diff().dropna()\n",
    "    difference += 1\n",
    "    if difference > 10:\n",
    "        raise Exception(\"Warning: difference over 10\")\n",
    "    \n",
    "difference\n",
    "\n"
   ]
  },
  {
   "cell_type": "code",
   "execution_count": 10,
   "metadata": {},
   "outputs": [
    {
     "data": {
      "text/plain": [
       "((1008, 1), (1008,), (133, 1), (133,))"
      ]
     },
     "execution_count": 10,
     "metadata": {},
     "output_type": "execute_result"
    }
   ],
   "source": [
    "# split data into train and test sets\n",
    "\n",
    "TEST_SIZE = 133\n",
    "train, test = df.iloc[:-TEST_SIZE], df.iloc[-TEST_SIZE:]\n",
    "x_train, x_test = np.array(range(train.shape[0])), np.array(range(train.shape[0], df.shape[0]))\n",
    "train.shape, x_train.shape, test.shape, x_test.shape"
   ]
  },
  {
   "cell_type": "code",
   "execution_count": 11,
   "metadata": {},
   "outputs": [],
   "source": [
    "# run auto arima"
   ]
  },
  {
   "cell_type": "code",
   "execution_count": 12,
   "metadata": {},
   "outputs": [],
   "source": [
    "# calculate SMAPE, conclusion"
   ]
  }
 ],
 "metadata": {
  "kernelspec": {
   "display_name": "base",
   "language": "python",
   "name": "python3"
  },
  "language_info": {
   "codemirror_mode": {
    "name": "ipython",
    "version": 3
   },
   "file_extension": ".py",
   "mimetype": "text/x-python",
   "name": "python",
   "nbconvert_exporter": "python",
   "pygments_lexer": "ipython3",
   "version": "3.10.9"
  },
  "orig_nbformat": 4
 },
 "nbformat": 4,
 "nbformat_minor": 2
}
